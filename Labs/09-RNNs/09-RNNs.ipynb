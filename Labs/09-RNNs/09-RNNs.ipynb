{
 "cells": [
  {
   "cell_type": "markdown",
   "metadata": {},
   "source": [
    "# Lab 09: RNNs\n",
    "\n",
    "Some references for the materials used for this lab:\n",
    "- https://stanford.edu/~shervine/teaching/cs-230/cheatsheet-recurrent-neural-networks\n",
    "- https://www.simplilearn.com/tutorials/deep-learning-tutorial/rnn\n",
    "\n",
    "Today we'll do some preliminary investigation of simple RNNs similar to the form of Figure 10.3 in Goodfellow et al. (the Elman network).\n"
   ]
  },
  {
   "cell_type": "markdown",
   "metadata": {},
   "source": [
    "## Recurrent neural networks (RNNs)\n",
    "\n",
    "**Recurrent neural networks** or **RNNs** are a class of neural networks that build up hidden state over time, using previous inputs, previous outputs, and/or previous hidden states to be used as inputs to the calculation at the current point in time. RNNs work on the principle of saving the output of a particular layer and feeding this back to the network as an input.\n",
    "\n",
    "This diagram gives the idea of one of the simplest types of recurrent networks, the Elman network:\n",
    "\n",
    "<img src=\"img/rnns_unfold2.PNG\" title=\"RNNs\" style=\"width: 600px;\" />\n",
    "\n",
    "Mathematically, for each timestep $t$, the activation $a^{(t)}$ and the output $y^{(t)}$ are expressed as\n",
    "\\begin{eqnarray} a^{(t)} & = & g_1(W_{aa}a^{(t-1)}+W_{ax}x^{(t)} + b_a) \\\\\n",
    "y^{(t)} & = & g_2(W_{ya}a^{(t)} + b_y), \\end{eqnarray}\n",
    "\n",
    "where $W_{ax}, W_{aa}, W_{ya}, b_a, b_y$ are coefficients that are shared temporally and $g_1, g_2$ are activation functions.\n",
    "\n",
    "Advantages and disadvantages of RNNs:\n",
    "\n",
    "| Advantages                                              | Disadvantages                                          |\n",
    "|:--------------------------------------------------------|:-------------------------------------------------------|\n",
    "| Possibility of processing input of any length           | Slow sequential computation                            |\n",
    "| Model size fixed regardless of input length             | Difficult to preserve information from a long time ago |\n",
    "| Computation accumulates historical information          | Current state cannot be conditioned on future input    |\n",
    "| Weight sharing across time gives statistical efficiency |                                                        |\n",
    "\n",
    "### Applications of RNNs\n",
    "\n",
    "RNN models are mostly used in the fields of natural language processing and speech recognition. Each type of RNN is applicable to different situations.\n",
    "Some typical RNNs:\n",
    "\n",
    "<img src=\"img/rnns_example2.png\" title=\"RNNs\" style=\"width: 800px;\" />\n",
    "\n",
    "Here are some example applications of these different types of models:\n",
    "\n",
    "| RNN Type | Example Application|\n",
    "|:--|:--|\n",
    "| One-to-One                  | Control                  |\n",
    "| One-to-Many                 | Music generation         |\n",
    "| Many-to-One                 | Sentiment classification |\n",
    "| Many-to-Many $T_x \\neq T_y$ | Machine translation      |\n",
    "| Many-to-Many $T_x = T_y$    | Name entity recognition  |"
   ]
  },
  {
   "cell_type": "markdown",
   "metadata": {},
   "source": [
    "### Loss function and back propagation\n",
    "\n",
    "In the case of a recurrent neural network, the loss function $\\mathcal{L}$ over all time steps is defined based on the loss at each time step:\n",
    "\n",
    "\\mathcal{L}(\\hat{y}, y) = \\sum_{t=1}^{T_y}\\mathcal{L}(\\hat{y}^{(t)}, y^{(t)})\n",
    "\n",
    "The backpropagation calculation can therefore be broken up into individual time-synchronized calculations.\n",
    "At timestep $t$, the derivative of the loss $\\mathcal{L}$ with respect to weight matrix $W$ is\n",
    "\n",
    "\\frac{\\partial\\mathcal{L}^{(t)}}{\\partial W} = \\sum_{t=1}^T \\frac{\\partial\\mathcal{L}^{(t)}}{\\partial W} |_{(t)}\n",
    "\n",
    "### Popular activation functions\n",
    "\n",
    "The most common activation functions:\n",
    "\n",
    "- Sigmoid (Bernoulli output)\n",
    "- Softmax (multinomial output)\n",
    "- Tanh (hidden state)\n",
    "- ReLU (hidden states in deeper RNNs)"
   ]
  },
  {
   "cell_type": "markdown",
   "metadata": {},
   "source": [
    "## Predicting the language a surname comes from\n",
    "\n",
    "Let's begin with one of the official PyTorch tutorials on [classifying surnames from 18 languages based on the character sequence](https://pytorch.org/tutorials/intermediate/char_rnn_classification_tutorial.html).\n",
    "\n",
    "## Runtime environment\n",
    "\n",
    "For the runtime environment, we won't get much benefit from the GPU in today's lab, as the examples are not batched, and it's not easy to do so, since different words have different lengths. Since the GPU server isn't going to help us much, you may prefer to run locally using Jupyter.\n",
    "\n",
    "## Surnames dataset\n",
    "\n",
    "Get your Jupyter environment up and running, then download the dataset (https://download.pytorch.org/tutorial/data.zip) and unzip it in your project directory.\n",
    "\n",
    "Here's code directly from the tutorial to read the names into a dictionary of the form { language1: [name1, name2, ...], language2: ... }"
   ]
  },
  {
   "cell_type": "code",
   "execution_count": 1,
   "metadata": {},
   "outputs": [
    {
     "name": "stdout",
     "output_type": "stream",
     "text": [
      "['data/names/Arabic.txt', 'data/names/Italian.txt', 'data/names/Chinese.txt', 'data/names/Russian.txt', 'data/names/German.txt', 'data/names/English.txt', 'data/names/Dutch.txt', 'data/names/Irish.txt', 'data/names/Polish.txt', 'data/names/Scottish.txt', 'data/names/Korean.txt', 'data/names/Portuguese.txt', 'data/names/Spanish.txt', 'data/names/Japanese.txt', 'data/names/Greek.txt', 'data/names/French.txt', 'data/names/Czech.txt', 'data/names/Vietnamese.txt']\n"
     ]
    }
   ],
   "source": [
    "from __future__ import unicode_literals, print_function, division\n",
    "from io import open\n",
    "import glob\n",
    "import os\n",
    "import unicodedata\n",
    "import string\n",
    "\n",
    "def findFiles(path):\n",
    "    return glob.glob(path)\n",
    "\n",
    "print(findFiles('data/names/*.txt'))\n",
    "\n",
    "all_letters = string.ascii_letters + \" .,;'\"\n",
    "n_letters = len(all_letters)"
   ]
  },
  {
   "cell_type": "code",
   "execution_count": 2,
   "metadata": {},
   "outputs": [
    {
     "data": {
      "text/plain": [
       "57"
      ]
     },
     "execution_count": 2,
     "metadata": {},
     "output_type": "execute_result"
    }
   ],
   "source": [
    "n_letters"
   ]
  },
  {
   "cell_type": "code",
   "execution_count": 3,
   "metadata": {},
   "outputs": [
    {
     "name": "stdout",
     "output_type": "stream",
     "text": [
      "Slusarski\n"
     ]
    }
   ],
   "source": [
    "# Turn a Unicode string to plain ASCII, thanks to https://stackoverflow.com/a/518232/2809427\n",
    "\n",
    "def unicodeToAscii(s):\n",
    "    return ''.join(\n",
    "        c for c in unicodedata.normalize('NFD', s)\n",
    "        if unicodedata.category(c) != 'Mn'\n",
    "        and c in all_letters\n",
    "    )\n",
    "\n",
    "print(unicodeToAscii('Ślusàrski'))"
   ]
  },
  {
   "cell_type": "code",
   "execution_count": 4,
   "metadata": {
    "tags": []
   },
   "outputs": [
    {
     "name": "stdout",
     "output_type": "stream",
     "text": [
      "Arabic\n",
      "Italian\n"
     ]
    }
   ],
   "source": [
    "# Build the category_lines dictionary, a list of names per language\n",
    "\n",
    "category_lines = {}\n",
    "all_categories = []\n",
    "\n",
    "# Read a file and split into lines\n",
    "\n",
    "def readLines(filename):\n",
    "    lines = open(filename, encoding='utf-8').read().strip().split('\\n')\n",
    "    return [unicodeToAscii(line) for line in lines]\n",
    "\n",
    "for filename in findFiles('data/names/*.txt'):\n",
    "    category = os.path.splitext(os.path.basename(filename))[0]\n",
    "    all_categories.append(category)\n",
    "    lines = readLines(filename)\n",
    "    category_lines[category] = lines\n",
    "\n",
    "n_categories = len(all_categories)\n",
    "\n",
    "# Check that it worked\n",
    "\n",
    "for c in all_categories[:2]:\n",
    "    print(c)\n",
    "    # print(category_lines[c]) "
   ]
  },
  {
   "cell_type": "markdown",
   "metadata": {},
   "source": [
    "OK, try it out. You can see some results with a query like"
   ]
  },
  {
   "cell_type": "code",
   "execution_count": 5,
   "metadata": {
    "scrolled": true
   },
   "outputs": [
    {
     "name": "stdout",
     "output_type": "stream",
     "text": [
      "['Abandonato', 'Abatangelo', 'Abatantuono', 'Abate', 'Abategiovanni']\n"
     ]
    }
   ],
   "source": [
    "print(category_lines['Italian'][:5])"
   ]
  },
  {
   "cell_type": "markdown",
   "metadata": {},
   "source": [
    "## Text embedding\n",
    "\n",
    "*Embedding* refers to the process of turning complex structured or unstructured data into a real-valued vector form suitable for deep learning.\n",
    "There are many different ways of representing text in deep learning. Examples:\n",
    "\n",
    "- One-hot encoding\n",
    "- Global Vector for word representation (GloVe)\n",
    "- Bag-of-words (BOW)\n",
    "- n-grams\n",
    "\n",
    "Today we'll use the most basic of these algorithms, one-hot encoding."
   ]
  },
  {
   "cell_type": "markdown",
   "metadata": {},
   "source": [
    "## One-hot encoding (what is it?)\n",
    "\n",
    "This information is from [Victor Zhou's blog on one-hot encoding](https://victorzhou.com/blog/one-hot/).\n",
    "\n",
    "One-hot encoding maps a single integer to a vector in which\n",
    "a single element is 1 and all other elements are 0, such as $[0, 1, 0, 0]$.\n",
    "This is also known as integer encoding. To interpret or generate a sequence of\n",
    "characters, we assign a unique one-hot code to each element in our vocabulary:\n",
    "\n",
    "|Character|Value|One-Hot|\n",
    "|---------|-----|-------|\n",
    "|A|1|1 0 0 0 ...|\n",
    "|B|2|0 1 0 0 ...|\n",
    "|C|3|0 0 1 0 ...|\n",
    "\n",
    "The representation is useful not only for characters, but any discrete tokens, especially\n",
    "words (when the vocabulary is not too large):\n",
    "\n",
    "|Word|Value|One-Hot|\n",
    "|---------|-----|-------|\n",
    "|Red|1|1 0 0 0 ...|\n",
    "|Blue|2|0 1 0 0 ...|\n",
    "|Green|3|0 0 1 0 ...|\n",
    "\n",
    "One benefit of a one-hot encoding of a sequence of tokens is that you can easily convert the sequence into\n",
    "a \"bag of words\" representation in which each element represents the (possibly weighted) frequency of a\n",
    "term over the sequence. To get unweighted frequencies, just add your one-hot vectors along the time dimension."
   ]
  },
  {
   "cell_type": "markdown",
   "metadata": {},
   "source": [
    "## One-hot representation of characters\n",
    "\n",
    "Next, let's see how to convert each letter in a word to a sequence of one-hot representations, for example mapping the character `b` tot he vector $[0 1 0 0 0 ...]$.\n",
    "The tensor size will be `linelength` $\\times$ 1 $\\times$ `nletters`. The first dimension is the number of characters in a given word/line of a data file,\n",
    "the second dimension is the index into the batch (we have a batch size of 1 here), and the third dimension indexes the different characters in the vocabulary.\n",
    "\n",
    "There are many ways to do it. Scikit-learn has functionality to perform one-hot encoding for an arbitrary dictionary:"
   ]
  },
  {
   "cell_type": "code",
   "execution_count": 6,
   "metadata": {},
   "outputs": [
    {
     "name": "stdout",
     "output_type": "stream",
     "text": [
      "[[0. 0. 1.]\n",
      " [0. 1. 0.]\n",
      " [1. 0. 0.]]\n"
     ]
    }
   ],
   "source": [
    "# One-hot encoding of a word vocabulary using scikit-learn’s OneHotEncoder\n",
    "\n",
    "from sklearn.preprocessing import OneHotEncoder\n",
    "\n",
    "encoder = OneHotEncoder(sparse=False)\n",
    "print(encoder.fit_transform([['red'], ['green'], ['blue']]))"
   ]
  },
  {
   "cell_type": "markdown",
   "metadata": {},
   "source": [
    "And here's a simple method to encode a sequence of integers using numpy:"
   ]
  },
  {
   "cell_type": "code",
   "execution_count": 7,
   "metadata": {},
   "outputs": [
    {
     "name": "stdout",
     "output_type": "stream",
     "text": [
      "[[0. 0. 1.]\n",
      " [0. 1. 0.]\n",
      " [1. 0. 0.]]\n"
     ]
    }
   ],
   "source": [
    "# One-hot encoding of a word using numpy\n",
    "\n",
    "import numpy as np\n",
    "\n",
    "arr = [2, 1, 0]\n",
    "max = np.max(arr) + 1\n",
    "print(np.eye(max)[arr])"
   ]
  },
  {
   "cell_type": "markdown",
   "metadata": {},
   "source": [
    "Here's PyTorch code for the same process:"
   ]
  },
  {
   "cell_type": "code",
   "execution_count": 8,
   "metadata": {},
   "outputs": [
    {
     "name": "stdout",
     "output_type": "stream",
     "text": [
      "tensor([[0., 0., 0., 0., 0., 0., 0., 0., 0., 0., 0., 0., 0., 0., 0., 0., 0., 0.,\n",
      "         0., 0., 0., 0., 0., 0., 0., 0., 0., 0., 0., 0., 0., 0., 0., 0., 0., 1.,\n",
      "         0., 0., 0., 0., 0., 0., 0., 0., 0., 0., 0., 0., 0., 0., 0., 0., 0., 0.,\n",
      "         0., 0., 0.]])\n",
      "torch.Size([5, 1, 57])\n"
     ]
    }
   ],
   "source": [
    "import torch\n",
    "\n",
    "# Find letter index from all_letters, e.g. \"a\" -> 0\n",
    "\n",
    "def letterToIndex(letter):\n",
    "    return all_letters.find(letter)\n",
    "\n",
    "# (For demonstration) turn a letter into a <1 x n_letters> tensor\n",
    "\n",
    "def letterToTensor(letter):\n",
    "    tensor = torch.zeros(1, n_letters)\n",
    "    tensor[0][letterToIndex(letter)] = 1\n",
    "    return tensor\n",
    "\n",
    "# Turn a line into a <line_length x 1 x n_letters> tensor\n",
    "# (an array of one-hot letter vectors)\n",
    "\n",
    "def lineToTensor(line):\n",
    "    tensor = torch.zeros(len(line), 1, n_letters)\n",
    "    for li, letter in enumerate(line):\n",
    "        tensor[li][0][letterToIndex(letter)] = 1\n",
    "    return tensor\n",
    "\n",
    "print(letterToTensor('J'))\n",
    "print(lineToTensor('Jones').size())"
   ]
  },
  {
   "cell_type": "markdown",
   "metadata": {},
   "source": [
    "## The RNN\n",
    "\n",
    "Next, let's implement the RNN structure itself:\n",
    "\n",
    "<img src=\"img/rnns_code2.png\" title=\"RNNs\" style=\"width: 400px;\" />"
   ]
  },
  {
   "cell_type": "code",
   "execution_count": 9,
   "metadata": {},
   "outputs": [],
   "source": [
    "import torch.nn as nn\n",
    "\n",
    "class RNN(nn.Module):\n",
    "    def __init__(self, input_size, hidden_size, output_size):\n",
    "        super(RNN, self).__init__()\n",
    "\n",
    "        self.hidden_size = hidden_size\n",
    "        \n",
    "        self.i2h = nn.Linear(input_size + hidden_size, hidden_size)\n",
    "        self.h2o = nn.Linear(hidden_size, output_size)\n",
    "        self.tanh = nn.Tanh()\n",
    "        self.softmax = nn.LogSoftmax(dim=1)\n",
    "\n",
    "    def forward(self, input, hidden):\n",
    "        combined = torch.cat((input, hidden), 1)\n",
    "        hidden = self.i2h(combined)\n",
    "        hidden = self.tanh(hidden)\n",
    "        output = self.h2o(hidden)\n",
    "        output = self.softmax(output)\n",
    "        return output, hidden\n",
    "\n",
    "    def initHidden(self, size):\n",
    "        return torch.zeros(size, self.hidden_size)\n",
    "\n",
    "n_hidden = 128\n",
    "\n",
    "rnn = RNN(n_letters, n_hidden, n_categories)"
   ]
  },
  {
   "cell_type": "markdown",
   "metadata": {},
   "source": [
    "A quick inspection shows that this only implements one time step for the model.\n",
    "The forward function takes an input and a previous hidden state, returning\n",
    "the output and the new hidden state.\n",
    "\n",
    "Note that this model is different from the Elman network structure in that the output layer takes\n",
    "input directly from the input as well as from the hidden layer.\n",
    "\n",
    "Here's code to pass an 'A' to our model, with the initial hidden state\n",
    "fixed to all zeros:"
   ]
  },
  {
   "cell_type": "code",
   "execution_count": 10,
   "metadata": {},
   "outputs": [
    {
     "data": {
      "text/plain": [
       "tensor([[-2.9166, -2.9400, -2.8311, -2.9719, -2.7667, -2.8562, -2.8818, -2.9534,\n",
       "         -2.9537, -2.8914, -2.8781, -2.8144, -2.8599, -2.9447, -2.8328, -2.9785,\n",
       "         -2.8372, -2.9511]], grad_fn=<LogSoftmaxBackward0>)"
      ]
     },
     "execution_count": 10,
     "metadata": {},
     "output_type": "execute_result"
    }
   ],
   "source": [
    "input = letterToTensor('A')\n",
    "hidden = torch.zeros(1, n_hidden)\n",
    "\n",
    "output, next_hidden = rnn(input, hidden)\n",
    "output"
   ]
  },
  {
   "cell_type": "markdown",
   "metadata": {},
   "source": [
    "*Why don't the numbers add up to 1.0 if it's a softmax output?*\n",
    "Take a look a the code and figure it out.\n",
    "\n",
    "You can try `lineToTensor()` instead of `letterToTensor()`\n",
    "and run through an entire name such as 'Albert'."
   ]
  },
  {
   "cell_type": "code",
   "execution_count": 11,
   "metadata": {},
   "outputs": [
    {
     "name": "stdout",
     "output_type": "stream",
     "text": [
      "tensor([[-2.9166, -2.9400, -2.8311, -2.9719, -2.7667, -2.8562, -2.8818, -2.9534,\n",
      "         -2.9537, -2.8914, -2.8781, -2.8144, -2.8599, -2.9447, -2.8328, -2.9785,\n",
      "         -2.8372, -2.9511]], grad_fn=<LogSoftmaxBackward0>)\n",
      "tensor([[-2.9183, -2.9900, -2.8504, -2.9753, -2.7464, -2.8163, -2.8305, -2.9536,\n",
      "         -2.9740, -2.8034, -2.9208, -2.8042, -2.8545, -2.9682, -2.8846, -2.9889,\n",
      "         -2.8881, -2.9062]], grad_fn=<LogSoftmaxBackward0>)\n",
      "tensor([[-2.9885, -2.9179, -2.8917, -2.9367, -2.8119, -2.7828, -2.8708, -2.9376,\n",
      "         -3.0270, -2.8698, -2.9114, -2.8005, -2.8446, -2.9120, -2.8472, -2.9595,\n",
      "         -2.8375, -2.9156]], grad_fn=<LogSoftmaxBackward0>)\n",
      "tensor([[-2.9187, -2.9374, -2.8253, -2.9736, -2.7603, -2.8423, -2.8429, -2.9577,\n",
      "         -2.9666, -2.8479, -2.9323, -2.8157, -2.8864, -2.9568, -2.8332, -2.9910,\n",
      "         -2.8342, -2.9440]], grad_fn=<LogSoftmaxBackward0>)\n",
      "tensor([[-2.9682, -2.9165, -2.8529, -2.9694, -2.7733, -2.8177, -2.8488, -2.9523,\n",
      "         -2.9856, -2.8648, -2.9033, -2.8428, -2.8300, -2.9466, -2.8687, -2.9380,\n",
      "         -2.8465, -2.9334]], grad_fn=<LogSoftmaxBackward0>)\n",
      "tensor([[-2.9308, -2.9574, -2.8388, -3.0053, -2.7651, -2.8499, -2.8415, -2.9754,\n",
      "         -2.9904, -2.8449, -2.8774, -2.8167, -2.8054, -2.9469, -2.8823, -2.9753,\n",
      "         -2.8261, -2.9428]], grad_fn=<LogSoftmaxBackward0>)\n"
     ]
    }
   ],
   "source": [
    "input = lineToTensor('Albert')\n",
    "hidden = torch.zeros(1, n_hidden)\n",
    "\n",
    "next_hidden = hidden\n",
    "for i in range(input.shape[0]):\n",
    "    output, next_hidden = rnn(input[i], next_hidden)\n",
    "    print(output)"
   ]
  },
  {
   "cell_type": "markdown",
   "metadata": {},
   "source": [
    "### Training\n",
    "\n",
    "To get started with training, we need some helper functions.\n",
    "This one converts an output vector to a category:"
   ]
  },
  {
   "cell_type": "code",
   "execution_count": 12,
   "metadata": {},
   "outputs": [
    {
     "name": "stdout",
     "output_type": "stream",
     "text": [
      "('German', 4)\n"
     ]
    }
   ],
   "source": [
    "def categoryFromOutput(output):\n",
    "    top_n, top_i = output.topk(1)\n",
    "    category_i = top_i[0].item()\n",
    "    return all_categories[category_i], category_i\n",
    "\n",
    "print(categoryFromOutput(output))"
   ]
  },
  {
   "cell_type": "markdown",
   "metadata": {},
   "source": [
    "Next, let's add a function to get a random element of our training set:"
   ]
  },
  {
   "cell_type": "code",
   "execution_count": 13,
   "metadata": {},
   "outputs": [
    {
     "name": "stdout",
     "output_type": "stream",
     "text": [
      "category = Dutch / line = Italian\n",
      "category = Italian / line = Italian\n",
      "category = Czech / line = Italian\n",
      "category = Irish / line = Italian\n",
      "category = Spanish / line = Italian\n",
      "category = Scottish / line = Italian\n",
      "category = Polish / line = Italian\n",
      "category = Scottish / line = Italian\n",
      "category = Greek / line = Italian\n",
      "category = Spanish / line = Italian\n"
     ]
    }
   ],
   "source": [
    "import random\n",
    "\n",
    "def randomChoice(l):\n",
    "    # random.randint range is inclusive thus len(l)-1\n",
    "    return l[random.randint(0, len(l) - 1)]\n",
    "\n",
    "def randomTrainingExample():\n",
    "    category = randomChoice(all_categories)\n",
    "    line = randomChoice(category_lines[category])\n",
    "    category_tensor = torch.tensor([all_categories.index(category)], dtype=torch.long)\n",
    "    line_tensor = lineToTensor(line)\n",
    "    return category, line, category_tensor, line_tensor\n",
    "\n",
    "for i in range(10):\n",
    "    category, line, category_tensor, line_tensor = randomTrainingExample()\n",
    "    print('category =', category, '/ line =', c)"
   ]
  },
  {
   "cell_type": "markdown",
   "metadata": {},
   "source": [
    "For the loss function, let's use negative log likelihood:"
   ]
  },
  {
   "cell_type": "code",
   "execution_count": 14,
   "metadata": {},
   "outputs": [],
   "source": [
    "criterion = nn.NLLLoss() "
   ]
  },
  {
   "cell_type": "markdown",
   "metadata": {},
   "source": [
    "Then a function for training on one sequence:"
   ]
  },
  {
   "cell_type": "code",
   "execution_count": 15,
   "metadata": {},
   "outputs": [],
   "source": [
    "learning_rate = 0.005 # If you set this too high, it might explode. If too low, it might not learn\n",
    "\n",
    "def train(category_tensor, line_tensor):\n",
    "    hidden = rnn.initHidden(batch_size)\n",
    "\n",
    "    rnn.zero_grad()\n",
    "\n",
    "    for i in range(line_tensor.size()[0]):\n",
    "        output, hidden = rnn(line_tensor[i], hidden)\n",
    "\n",
    "    loss = criterion(output, category_tensor)\n",
    "    loss.backward()\n",
    "\n",
    "    # Add parameters' gradients to their values, multiplied by learning rate\n",
    "    for p in rnn.parameters():\n",
    "        p.data.add_(- learning_rate * p.grad.data)\n",
    "\n",
    "    return output, loss.item()  "
   ]
  },
  {
   "cell_type": "code",
   "execution_count": 16,
   "metadata": {},
   "outputs": [],
   "source": [
    "def random_build_mini_batch(batch_size):\n",
    "    lines = []\n",
    "    category_tensors = torch.zeros(batch_size)\n",
    "    max_word_len = 0\n",
    "    for i in range(batch_size):\n",
    "        category, line, category_tensor, line_tensor = randomTrainingExample()\n",
    "        lines.append(line)\n",
    "        category_tensors[i] = category_tensor\n",
    "        if len(line) > max_word_len:\n",
    "            max_word_len = len(line)\n",
    "    \n",
    "    word_padded_tensors = []\n",
    "    for word in lines:\n",
    "        padding_size = max_word_len - len(word)\n",
    "        word += ' ' * padding_size\n",
    "        word_padded_tensors.append(lineToTensor(word))\n",
    "    \n",
    "    word_padded_tensors = torch.cat(tuple(word_padded_tensors), dim=1)\n",
    "    return category_tensors.long(), word_padded_tensors.long()"
   ]
  },
  {
   "cell_type": "markdown",
   "metadata": {},
   "source": [
    "Try running it for a few iterations on a single random pattern.\n",
    "\n",
    "Next, try this code for the overall training:"
   ]
  },
  {
   "cell_type": "code",
   "execution_count": 17,
   "metadata": {},
   "outputs": [
    {
     "name": "stdout",
     "output_type": "stream",
     "text": [
      "1000 2% (0m 2s) 2.8483 Vilaro / Vietnamese ✗ (Spanish)\n",
      "2000 5% (0m 4s) 2.8808 Vilaro / Korean ✗ (Spanish)\n",
      "3000 8% (0m 6s) 2.7766 Vilaro / Greek ✗ (Spanish)\n",
      "4000 10% (0m 8s) 2.3550 Vilaro / Portuguese ✗ (Spanish)\n",
      "5000 13% (0m 10s) 2.7121 Vilaro / Spanish ✓\n",
      "6000 16% (0m 12s) 2.8058 Vilaro / Arabic ✗ (Spanish)\n",
      "7000 18% (0m 14s) 2.3401 Vilaro / Italian ✗ (Spanish)\n",
      "8000 21% (0m 16s) 2.4564 Vilaro / Korean ✗ (Spanish)\n",
      "9000 24% (0m 18s) 2.5597 Vilaro / Russian ✗ (Spanish)\n",
      "10000 26% (0m 21s) 2.8207 Vilaro / Greek ✗ (Spanish)\n",
      "11000 29% (0m 23s) 2.5942 Vilaro / Greek ✗ (Spanish)\n",
      "12000 32% (0m 25s) 3.9226 Vilaro / German ✗ (Spanish)\n",
      "13000 34% (0m 27s) 2.8198 Vilaro / Japanese ✗ (Spanish)\n",
      "14000 37% (0m 29s) 3.1876 Vilaro / Irish ✗ (Spanish)\n",
      "15000 40% (0m 31s) 2.2673 Vilaro / Greek ✗ (Spanish)\n",
      "16000 42% (0m 33s) 2.8137 Vilaro / Arabic ✗ (Spanish)\n",
      "17000 45% (0m 35s) 1.0519 Vilaro / Korean ✗ (Spanish)\n",
      "18000 48% (0m 37s) 2.1848 Vilaro / Korean ✗ (Spanish)\n",
      "19000 50% (0m 39s) 2.7360 Vilaro / German ✗ (Spanish)\n",
      "20000 53% (0m 42s) 2.5018 Vilaro / German ✗ (Spanish)\n",
      "21000 56% (0m 44s) 1.6806 Vilaro / Arabic ✗ (Spanish)\n",
      "22000 58% (0m 46s) 2.1747 Vilaro / Chinese ✗ (Spanish)\n",
      "23000 61% (0m 48s) 3.4339 Vilaro / Korean ✗ (Spanish)\n",
      "24000 64% (0m 50s) 1.8743 Vilaro / Chinese ✗ (Spanish)\n",
      "25000 66% (0m 52s) 3.2402 Vilaro / Italian ✗ (Spanish)\n",
      "26000 69% (0m 54s) 2.6799 Vilaro / Vietnamese ✗ (Spanish)\n",
      "27000 72% (0m 56s) 1.2525 Vilaro / Japanese ✗ (Spanish)\n",
      "28000 74% (0m 58s) 1.8532 Vilaro / Korean ✗ (Spanish)\n",
      "29000 77% (1m 0s) 1.9369 Vilaro / Irish ✗ (Spanish)\n",
      "30000 80% (1m 2s) 2.3404 Vilaro / Italian ✗ (Spanish)\n",
      "31000 82% (1m 4s) 2.1226 Vilaro / Chinese ✗ (Spanish)\n",
      "32000 85% (1m 6s) 2.4980 Vilaro / Portuguese ✗ (Spanish)\n",
      "33000 88% (1m 8s) 1.4220 Vilaro / Portuguese ✗ (Spanish)\n",
      "34000 90% (1m 10s) 1.8341 Vilaro / Japanese ✗ (Spanish)\n",
      "35000 93% (1m 12s) 1.1759 Vilaro / Greek ✗ (Spanish)\n",
      "36000 96% (1m 14s) 1.4035 Vilaro / Dutch ✗ (Spanish)\n",
      "37000 98% (1m 16s) 2.1910 Vilaro / French ✗ (Spanish)\n"
     ]
    }
   ],
   "source": [
    "import time\n",
    "import math\n",
    "\n",
    "n_iters = 150000\n",
    "print_every = 1000\n",
    "plot_every = 1000\n",
    "batch_size = 4\n",
    "\n",
    "# Keep track of losses for plotting\n",
    "current_loss = 0\n",
    "all_losses = []\n",
    "\n",
    "def timeSince(since):\n",
    "    now = time.time()\n",
    "    s = now - since\n",
    "    m = math.floor(s / 60)\n",
    "    s -= m * 60\n",
    "    return '%dm %ds' % (m, s)\n",
    "\n",
    "start = time.time()\n",
    "\n",
    "for iter in range(1, int((n_iters + 1)/batch_size)):\n",
    "    labels, minibatch_line_tensors = random_build_mini_batch(batch_size)\n",
    "    output, loss = train(labels, minibatch_line_tensors)\n",
    "    current_loss += loss\n",
    "\n",
    "    # Print iter number, loss, name and guess\n",
    "    if iter % print_every == 0:\n",
    "        guess, guess_i = categoryFromOutput(output)\n",
    "        correct = '✓' if guess == category else '✗ (%s)' % category\n",
    "        print('%d %d%% (%s) %.4f %s / %s %s' % (iter, iter / (n_iters/batch_size) * 100, timeSince(start), loss, line, guess, correct))\n",
    "\n",
    "    # Add current loss avg to list of losses\n",
    "    if iter % plot_every == 0:\n",
    "        all_losses.append(current_loss / plot_every)\n",
    "        current_loss = 0"
   ]
  },
  {
   "cell_type": "code",
   "execution_count": 18,
   "metadata": {},
   "outputs": [
    {
     "data": {
      "text/plain": [
       "('Polish', 8)"
      ]
     },
     "execution_count": 18,
     "metadata": {},
     "output_type": "execute_result"
    }
   ],
   "source": [
    "categoryFromOutput(output)"
   ]
  },
  {
   "cell_type": "code",
   "execution_count": 19,
   "metadata": {},
   "outputs": [
    {
     "data": {
      "text/plain": [
       "torch.Size([4, 18])"
      ]
     },
     "execution_count": 19,
     "metadata": {},
     "output_type": "execute_result"
    }
   ],
   "source": [
    "output.shape"
   ]
  },
  {
   "cell_type": "markdown",
   "metadata": {},
   "source": [
    " Finally, plot the resulting training loss:\n",
    " "
   ]
  },
  {
   "cell_type": "code",
   "execution_count": 20,
   "metadata": {},
   "outputs": [
    {
     "data": {
      "text/plain": [
       "[<matplotlib.lines.Line2D at 0x7f4f31377310>]"
      ]
     },
     "execution_count": 20,
     "metadata": {},
     "output_type": "execute_result"
    },
    {
     "data": {
      "image/png": "[encoded data removed]",
      "text/plain": [
       "<Figure size 432x288 with 1 Axes>"
      ]
     },
     "metadata": {
      "needs_background": "light"
     },
     "output_type": "display_data"
    }
   ],
   "source": [
    "import matplotlib.pyplot as plt\n",
    "import matplotlib.ticker as ticker\n",
    "\n",
    "plt.figure()\n",
    "plt.plot(all_losses)"
   ]
  },
  {
   "cell_type": "markdown",
   "metadata": {},
   "source": [
    "### Evaluation\n",
    "\n",
    "Great, we have a trained model. Let's get a confusion matrix:"
   ]
  },
  {
   "cell_type": "code",
   "execution_count": 21,
   "metadata": {},
   "outputs": [
    {
     "name": "stderr",
     "output_type": "stream",
     "text": [
      "<ipython-input-21-75278d2f7474>:33: UserWarning: FixedFormatter should only be used together with FixedLocator\n",
      "  ax.set_xticklabels([''] + all_categories, rotation=90)\n",
      "<ipython-input-21-75278d2f7474>:34: UserWarning: FixedFormatter should only be used together with FixedLocator\n",
      "  ax.set_yticklabels([''] + all_categories)\n"
     ]
    },
    {
     "data": {
      "image/png": "[encoded data removed]",
      "text/plain": [
       "<Figure size 432x288 with 2 Axes>"
      ]
     },
     "metadata": {
      "needs_background": "light"
     },
     "output_type": "display_data"
    }
   ],
   "source": [
    "# Keep track of correct guesses in a confusion matrix\n",
    "confusion = torch.zeros(n_categories, n_categories)\n",
    "n_confusion = 10000\n",
    "\n",
    "# Just return an output given a line\n",
    "def evaluate(line_tensor):\n",
    "    hidden = rnn.initHidden(1)\n",
    "\n",
    "    for i in range(line_tensor.size()[0]):\n",
    "        output, hidden = rnn(line_tensor[i], hidden)\n",
    "\n",
    "    return output\n",
    "\n",
    "# Go through a bunch of examples and record which are correctly guessed\n",
    "for i in range(n_confusion):\n",
    "    category, line, category_tensor, line_tensor = randomTrainingExample()\n",
    "    output = evaluate(line_tensor)\n",
    "    guess, guess_i = categoryFromOutput(output)\n",
    "    category_i = all_categories.index(category)\n",
    "    confusion[category_i][guess_i] += 1\n",
    "\n",
    "# Normalize by dividing every row by its sum\n",
    "for i in range(n_categories):\n",
    "    confusion[i] = confusion[i] / confusion[i].sum()\n",
    "\n",
    "# Set up plot\n",
    "fig = plt.figure()\n",
    "ax = fig.add_subplot(111)\n",
    "cax = ax.matshow(confusion.numpy())\n",
    "fig.colorbar(cax)\n",
    "\n",
    "# Set up axes\n",
    "ax.set_xticklabels([''] + all_categories, rotation=90)\n",
    "ax.set_yticklabels([''] + all_categories)\n",
    "\n",
    "# Force label at every tick\n",
    "ax.xaxis.set_major_locator(ticker.MultipleLocator(1))\n",
    "ax.yaxis.set_major_locator(ticker.MultipleLocator(1))\n",
    "\n",
    "# sphinx_gallery_thumbnail_number = 2\n",
    "plt.show()"
   ]
  },
  {
   "cell_type": "markdown",
   "metadata": {},
   "source": [
    "Take a look at the most likely confusions and see if they make sense.\n",
    "\n",
    "### Prediction on user input\n",
    "\n",
    "Finally, try classifying novel inputs:"
   ]
  },
  {
   "cell_type": "code",
   "execution_count": 22,
   "metadata": {},
   "outputs": [
    {
     "name": "stdout",
     "output_type": "stream",
     "text": [
      "\n",
      "> Dovesky\n",
      "(-0.65) Russian\n",
      "(-1.76) Czech\n",
      "(-1.90) Polish\n",
      "\n",
      "> Jackson\n",
      "(-0.86) Scottish\n",
      "(-1.73) Russian\n",
      "(-1.96) Czech\n",
      "\n",
      "> Satoshi\n",
      "(-0.86) Japanese\n",
      "(-1.84) Italian\n",
      "(-1.91) Polish\n"
     ]
    }
   ],
   "source": [
    "def predict(input_line, n_predictions=3):\n",
    "    print('\\n> %s' % input_line)\n",
    "    with torch.no_grad():\n",
    "        output = evaluate(lineToTensor(input_line))\n",
    "\n",
    "        # Get top N categories\n",
    "        topv, topi = output.topk(n_predictions, 1, True)\n",
    "        predictions = []\n",
    "\n",
    "        for i in range(n_predictions):\n",
    "            value = topv[0][i].item()\n",
    "            category_index = topi[0][i].item()\n",
    "            print('(%.2f) %s' % (value, all_categories[category_index]))\n",
    "            predictions.append([value, all_categories[category_index]])\n",
    "\n",
    "predict('Dovesky')\n",
    "predict('Jackson')\n",
    "predict('Satoshi')"
   ]
  },
  {
   "cell_type": "markdown",
   "metadata": {},
   "source": [
    "### Exercises\n",
    "\n",
    "Try the following:\n",
    "\n",
    "1. Change the structure to be identical to Goodfellow's Figure 10.3 (no input-to-hidden connection) with tanh activation functions\n",
    "   and see if you get different results.\n",
    "   \n",
    "2. Explore methods for batching patterns of different length prior to presentation to a RNN and\n",
    "   implement them. See how much speedup you can get from the GPU with minibatch training.\n",
    "\n",
    "3. Do a bit of research on similar problems such as named entity recognition, find a dataset,\n",
    "   train a model, and report your results.\n",
    "\n",
    "### The report\n",
    "\n",
    "As always, your report is due next week. Please submit via Google Classroom."
   ]
  },
  {
   "cell_type": "markdown",
   "metadata": {},
   "source": [
    "1. Change the structure to be identical to Goodfellow's Figure 10.3 (no input-to-hidden connection) with tanh activation functions\n",
    "   and see if you get different results.\n",
    "\n",
    "   Result  \n",
    "   <code>\n",
    "    class RNN(nn.Module):\n",
    "        def __init__(self, input_size, hidden_size, output_size):\n",
    "            super(RNN, self).__init__()\n",
    "\n",
    "            self.hidden_size = hidden_size\n",
    "            \n",
    "            self.i2h = nn.Linear(input_size + hidden_size, hidden_size)\n",
    "            self.h2o = nn.Linear(hidden_size, output_size)\n",
    "            self.tanh = nn.Tanh()\n",
    "            self.softmax = nn.LogSoftmax(dim=1)\n",
    "\n",
    "        def forward(self, input, hidden):\n",
    "            combined = torch.cat((input, hidden), 1)\n",
    "            hidden = self.i2h(combined)\n",
    "            hidden = self.tanh(hidden)\n",
    "            output = self.h2o(hidden)\n",
    "            output = self.softmax(output)\n",
    "            return output, hidden\n",
    "\n",
    "        def initHidden(self):\n",
    "            return torch.zeros(1, self.hidden_size)\n",
    "\n",
    "    n_hidden = 128\n",
    "    rnn = RNN(n_letters, n_hidden, n_categories)\n",
    "   </code>\n",
    "\n",
    "   Instead of the previous rnn model which have i2o and i2h layer, this model change to input-to-hidden and hidden-to-output. After the input pass through the input-to-hidden layer, the model have Tanh activation function. After activation function we will get the hidden output. Then we use the hidden vector pass through hidden-to-output layer to get output vector. After that, the model apply softmax to output vector.\n",
    "\n",
    "   This is the confusion matrix with previous rnn model.  \n",
    "   <img src=\"reportImg/beforeChangeTonewRNN.png\" title=\"RNNs\" style=\"width: 500px;\" />\n",
    "\n",
    "   Confusion matrix after update rnn model  \n",
    "   <img src=\"reportImg/AfterUpdateRnn.png\" title=\"RNNs\" style=\"width: 500px;\" />  \n",
    "\n",
    "   As we can see, the RNN model according to Goodfellow's Figure 10.3 get better target prediction result.\n"
   ]
  },
  {
   "cell_type": "markdown",
   "metadata": {},
   "source": [
    "2. Explore methods for batching patterns of different length prior to presentation to a RNN and\n",
    "   implement them. See how much speedup you can get from the GPU with minibatch training.\n",
    "\n",
    "   In order to create minibatch using words which have difference length, we need to add padding to shorter word to make every word have same length. Thus, I create a new function for generate minibatch dataset and pad the word that is shorter than the longest word tobe equlaed length. The function show below.  \n",
    "\n",
    "   Result  \n",
    "   <code>\n",
    "   def random_build_mini_batch(batch_size):  \n",
    "    &emsp;lines = []  \n",
    "    &emsp;category_tensors = torch.zeros(batch_size)  \n",
    "    &emsp;max_word_len = 0  \n",
    "    &emsp;for i in range(batch_size):  \n",
    "        &emsp;&emsp;category, line, category_tensor, line_tensor = randomTrainingExample()  \n",
    "        &emsp;&emsp;lines.append(line)  \n",
    "        &emsp;&emsp;category_tensors[i] = category_tensor  \n",
    "        &emsp;&emsp;if len(line) > max_word_len:  \n",
    "            &emsp;&emsp;&emsp;max_word_len = len(line)  \n",
    "      \n",
    "    &emsp;word_padded_tensors = []  \n",
    "    &emsp;for word in lines:  \n",
    "        &emsp;&emsp;padding_size = max_word_len - len(word)  \n",
    "        &emsp;&emsp;word += ' ' * padding_size  \n",
    "        &emsp;&emsp;word_padded_tensors.append(lineToTensor(word))  \n",
    "      \n",
    "    &emsp;word_padded_tensors = torch.cat(tuple(word_padded_tensors), dim=1)  \n",
    "    &emsp;return category_tensors.long(), word_padded_tensors.long()  \n",
    "   </code>  \n",
    "\n",
    "   Then I train the model using minibatch with the almost same amount of train data.  \n",
    "   As we can see the training is faster using minibatch. But the accuracy is lower.  \n",
    "\n",
    "    This is the result of training using minibath.  \n",
    "   <img src=\"reportImg/ConfusionAfter.png\" title=\"RNNs\" style=\"width: 500px;\" />  \n",
    "    <img src=\"reportImg/LossAfter.png\" title=\"RNNs\" style=\"width: 500px;\" />  \n",
    "    <img src=\"reportImg/TrainingTimeAfter.png\" title=\"RNNs\" style=\"width: 500px;\" />  \n",
    "\n",
    "    This is the result before using minibatch.   \n",
    "    <img src=\"reportImg/TrainingLossBefore.png\" title=\"RNNs\" style=\"width: 500px;\" />  \n",
    "    <img src=\"reportImg/TrainingTimeBefore.png\" title=\"RNNs\" style=\"width: 500px;\" />  \n"
   ]
  },
  {
   "cell_type": "markdown",
   "metadata": {},
   "source": [
    "3. Do a bit of research on similar problems such as named entity recognition, find a dataset,\n",
    "   train a model, and report your results.  "
   ]
  }
 ],
 "metadata": {
  "kernelspec": {
   "display_name": "Python 3 (ipykernel)",
   "language": "python",
   "name": "python3"
  },
  "language_info": {
   "codemirror_mode": {
    "name": "ipython",
    "version": 3
   },
   "file_extension": ".py",
   "mimetype": "text/x-python",
   "name": "python",
   "nbconvert_exporter": "python",
   "pygments_lexer": "ipython3",
   "version": "3.9.7"
  }
 },
 "nbformat": 4,
 "nbformat_minor": 4
}
